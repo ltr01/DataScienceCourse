{
 "cells": [
  {
   "cell_type": "markdown",
   "metadata": {},
   "source": [
    "<center>\n",
    "    <img src=\"https://cf-courses-data.s3.us.cloud-object-storage.appdomain.cloud/IBMDeveloperSkillsNetwork-DS0105EN-SkillsNetwork/labs/Module2/images/SN_web_lightmode.png\" width=\"300\" alt=\"cognitiveclass.ai logo\">\n",
    "</center>\n"
   ]
  },
  {
   "cell_type": "markdown",
   "metadata": {},
   "source": [
    "#### Add your code below following the instructions given in the course\n"
   ]
  },
  {
   "cell_type": "markdown",
   "metadata": {},
   "source": [
    "# My Jupyter Notebook on IBM Watson Studio"
   ]
  },
  {
   "cell_type": "markdown",
   "metadata": {
    "tags": []
   },
   "source": [
    "## Leonard Radu \n",
    "Independent Trader"
   ]
  },
  {
   "cell_type": "markdown",
   "metadata": {
    "tags": []
   },
   "source": [
    "*I am interested in data science because I want to create or use the latest algorithms in Machine Learning and teach them to recognise the patterns that I see in the financial markets*"
   ]
  },
  {
   "cell_type": "markdown",
   "metadata": {},
   "source": [
    "### My code in cell 5 should simply print the sum of 1 plus 1"
   ]
  },
  {
   "cell_type": "code",
   "execution_count": 11,
   "metadata": {
    "tags": []
   },
   "outputs": [
    {
     "name": "stdout",
     "output_type": "stream",
     "text": [
      "2\n"
     ]
    }
   ],
   "source": [
    "print(1+1)"
   ]
  },
  {
   "cell_type": "markdown",
   "metadata": {},
   "source": [
    "### Cell 6 for the rest of the exercise:\n",
    "\n",
    "---\n",
    "All these examples are separated by horizontal rules, like this:\n",
    "\n",
    "---\n",
    "\n",
    "and this is a bulleted list:\n",
    "\n",
    "* bullet 1\n",
    "* bullet 2\n",
    "* bullet 3\n",
    "\n",
    "---\n",
    "\n",
    "and a numbered list:\n",
    "\n",
    "1. first number\n",
    "2. second number\n",
    "3. third number\n",
    "\n",
    "---\n",
    "\n",
    "my table:\n",
    "\n",
    "\n",
    "| tables   | are           | cool    |\n",
    "| -------- | :------       | :------ |\n",
    "|col 2 is  | left-aligned  | 2000    |\n",
    "|col 3 is  | right-aligned | 200     |\n",
    "|tables are| great         | 20      |\n",
    "|my two    | cents         | 2       |\n",
    "\n",
    "---\n",
    "\n",
    "hyperlinks:\n",
    "\n",
    "[Link to NASA](https://www.nasa.gov)\n",
    "\n",
    "[Link to NASA with title](https://www.nasa.gov \"NASA's Homepage\")\n",
    "\n",
    "[Link to NASA with reference-style][Arbitrary case-insensitive reference text]\n",
    "\n",
    "[Arbitrary case-insensitive reference text]:https://www.nasa.gov\n",
    "\n",
    "\n",
    "---\n",
    "\n",
    "images:\n",
    "\n",
    "Inline-style: \n",
    "![alt text](https://github.com/adam-p/markdown-here/raw/master/src/common/images/icon48.png \"Logo Title Text 1\")\n",
    "\n",
    "---\n",
    "\n",
    "code/syntax:\n",
    "\n",
    "Inline `code` has `back-ticks around` it.\n",
    "\n",
    "```javascript\n",
    "var s = \"JavaScript syntax highlighting\";\n",
    "alert(s);\n",
    "```\n",
    " \n",
    "```python\n",
    "s = \"Python syntax highlighting\"\n",
    "print s\n",
    "```\n",
    " \n",
    "```\n",
    "No language indicated, so no syntax highlighting. \n",
    "But let's throw in a <b>tag</b>.\n",
    "```\n",
    "\n",
    "var s = \"JavaScript syntax highlighting\";\n",
    "alert(s);\n",
    "\n",
    "---\n",
    "\n",
    "blockquotes: \n",
    "\n",
    "> Blockquotes are very handy in email to emulate reply text.\n",
    "> This line is part of the same quote.\n",
    "\n",
    "Quote break.\n",
    "\n",
    "> This is a very long line that will still be quoted properly when it wraps. Oh boy let's keep writing to make sure this is long enough to actually wrap for everyone. Oh, you can *put* **Markdown** into a blockquote. \n",
    "\n",
    "---\n",
    "\n",
    "strikethrough: \n",
    "\n",
    "Strikethrough uses two tildes. ~~Scratch this.~~\n",
    "\n",
    "---"
   ]
  },
  {
   "cell_type": "code",
   "execution_count": null,
   "metadata": {},
   "outputs": [],
   "source": []
  },
  {
   "cell_type": "code",
   "execution_count": null,
   "metadata": {},
   "outputs": [],
   "source": []
  },
  {
   "cell_type": "code",
   "execution_count": null,
   "metadata": {},
   "outputs": [],
   "source": []
  }
 ],
 "metadata": {
  "kernelspec": {
   "display_name": "Python 3 (ipykernel)",
   "language": "python",
   "name": "python3"
  },
  "language_info": {
   "codemirror_mode": {
    "name": "ipython",
    "version": 3
   },
   "file_extension": ".py",
   "mimetype": "text/x-python",
   "name": "python",
   "nbconvert_exporter": "python",
   "pygments_lexer": "ipython3",
   "version": "3.11.2"
  }
 },
 "nbformat": 4,
 "nbformat_minor": 4
}
